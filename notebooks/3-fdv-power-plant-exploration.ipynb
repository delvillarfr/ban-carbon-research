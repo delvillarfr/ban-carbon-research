{
 "cells": [
  {
   "cell_type": "code",
   "execution_count": 4,
   "id": "0a9a1fcd",
   "metadata": {},
   "outputs": [
    {
     "data": {
      "application/vnd.microsoft.datawrangler.viewer.v0+json": {
       "columns": [
        {
         "name": "County",
         "rawType": "object",
         "type": "string"
        },
        {
         "name": "count",
         "rawType": "int64",
         "type": "integer"
        }
       ],
       "ref": "85933920-0f52-4e4a-b09f-ff54e830d94e",
       "rows": [
        [
         "Albany",
         "2"
        ],
        [
         "Anne Arundel",
         "2"
        ],
        [
         "Barnstable",
         "1"
        ],
        [
         "Bergen",
         "1"
        ],
        [
         "Berkshire",
         "1"
        ],
        [
         "Bristol",
         "3"
        ],
        [
         "Bronx",
         "2"
        ],
        [
         "Burlington",
         "1"
        ],
        [
         "Camden",
         "1"
        ],
        [
         "Cattaraugus",
         "1"
        ],
        [
         "Cecil",
         "2"
        ],
        [
         "Charles",
         "2"
        ],
        [
         "Chautauqua",
         "1"
        ],
        [
         "Chittenden",
         "1"
        ],
        [
         "Clinton",
         "1"
        ],
        [
         "Cumberland",
         "6"
        ],
        [
         "Dorchester",
         "1"
        ],
        [
         "Dutchess",
         "1"
        ],
        [
         "Erie",
         "1"
        ],
        [
         "Essex",
         "4"
        ],
        [
         "Fairfield",
         "2"
        ],
        [
         "Genesee",
         "1"
        ],
        [
         "Gloucester",
         "2"
        ],
        [
         "Greene",
         "1"
        ],
        [
         "Hampden",
         "3"
        ],
        [
         "Hancock",
         "1"
        ],
        [
         "Harford",
         "1"
        ],
        [
         "Hartford",
         "2"
        ],
        [
         "Hudson",
         "2"
        ],
        [
         "Hunterdon",
         "1"
        ],
        [
         "Jefferson",
         "1"
        ],
        [
         "Kent",
         "4"
        ],
        [
         "Kings",
         "5"
        ],
        [
         "Lewis",
         "1"
        ],
        [
         "Merrimack",
         "1"
        ],
        [
         "Middlesex",
         "8"
        ],
        [
         "Montgomery",
         "1"
        ],
        [
         "Nassau",
         "6"
        ],
        [
         "New Castle",
         "4"
        ],
        [
         "New Haven",
         "7"
        ],
        [
         "New London",
         "1"
        ],
        [
         "New York",
         "2"
        ],
        [
         "Newport",
         "1"
        ],
        [
         "Niagara",
         "3"
        ],
        [
         "Norfolk",
         "6"
        ],
        [
         "Ocean",
         "3"
        ],
        [
         "Oneida",
         "1"
        ],
        [
         "Onondaga",
         "2"
        ],
        [
         "Orange",
         "4"
        ],
        [
         "Oswego",
         "3"
        ]
       ],
       "shape": {
        "columns": 1,
        "rows": 69
       }
      },
      "text/plain": [
       "County\n",
       "Albany          2\n",
       "Anne Arundel    2\n",
       "Barnstable      1\n",
       "Bergen          1\n",
       "Berkshire       1\n",
       "               ..\n",
       "Washington      1\n",
       "Windham         1\n",
       "Worcester       3\n",
       "Wyoming         1\n",
       "Yates           1\n",
       "Name: count, Length: 69, dtype: int64"
      ]
     },
     "execution_count": 4,
     "metadata": {},
     "output_type": "execute_result"
    }
   ],
   "source": [
    "import pandas as pd\n",
    "import geopandas\n",
    "import matplotlib.pyplot as plt\n",
    "\n",
    "from ban_carbon_research.config import RAW_DATA_DIR, PROCESSED_DATA_DIR\n",
    "\n",
    "geo_pps = geopandas.read_file(PROCESSED_DATA_DIR / \"Power_Plants\")\n",
    "rggi_pps = pd.read_csv(PROCESSED_DATA_DIR / \"rggi-emissions-annual-facility.csv\")\n",
    "\n",
    "pps = geo_pps.merge(\n",
    "    rggi_pps[rggi_pps[\"Year\"] == 2024],\n",
    "    left_on = \"Plant_Code\",\n",
    "    right_on = \"ORIS Code\",\n",
    "    how = \"right\",\n",
    "    indicator = True\n",
    "    )\n",
    "# There are seven unmerged power plants. They were decomissioned in 2024.\n",
    "#pps[\"_merge\"].value_counts()\n",
    "#unmerged = pps[pps[\"_merge\"] == \"right_only\"]\n",
    "pps = pps[pps[\"_merge\"] == \"both\"].drop(\"_merge\", axis = 1)\n",
    "pps[\"County\"].value_counts().sort_index()"
   ]
  },
  {
   "cell_type": "code",
   "execution_count": null,
   "id": "46fcc263",
   "metadata": {},
   "outputs": [
    {
     "name": "stdout",
     "output_type": "stream",
     "text": [
      "0.4082860563484762\n",
      "33113311.803000003\n"
     ]
    }
   ],
   "source": [
    "# Question: How much of the emissions are due to NYC?\n",
    "ny_met_counties = [\n",
    "    \"Kings\",\n",
    "    \"Queens\",\n",
    "    \"New York\",\n",
    "    \"Bronx\",\n",
    "    \"Richmond\",\n",
    "    \"Westchester\",\n",
    "    \"Bergen\",\n",
    "    \"Hudson\",\n",
    "    \"Passaic\",\n",
    "    \"Rockland\",\n",
    "    \"Putnam\",\n",
    "    \"Suffolk\",\n",
    "    \"Nassau\",\n",
    "    \"Middlesex\",\n",
    "    \"Monmouth\",\n",
    "    \"Ocean\",\n",
    "    \"Somerset\",\n",
    "    \"Essex\",\n",
    "    \"Union\",\n",
    "    \"Morris\",\n",
    "    \"Sussex\",\n",
    "    \"Hunterdon\",\n",
    "]\n",
    "co2 = \"CO2 Mass (Tons)\"\n",
    "print(pps.loc[pps[\"County\"].isin(ny_met_counties), co2].sum() / pps[co2].sum())\n",
    "print(pps.loc[pps[\"County\"].isin(ny_met_counties), co2].sum())\n",
    "# Answer: 41%, or ~30M metric tons CO2. Like Senegal, Zimbabwe, Guinea, half of Congo. More than Croatia"
   ]
  },
  {
   "cell_type": "code",
   "execution_count": 35,
   "id": "ab02ac44",
   "metadata": {},
   "outputs": [
    {
     "name": "stdout",
     "output_type": "stream",
     "text": [
      "Answer: 63250711.91177777\n",
      "TCO2/sec average: 2.871750206918724\n",
      "0.34821970155717724\n"
     ]
    }
   ],
   "source": [
    "# How much have power plants polluted up to October 7?\n",
    "import pandas as pd\n",
    "import numpy as np\n",
    "import matplotlib.pyplot as plt\n",
    "\n",
    "from ban_carbon_research.config import RAW_DATA_DIR, PROCESSED_DATA_DIR\n",
    "\n",
    "rggi = pd.read_csv(RAW_DATA_DIR / \"rggi-emissions-quarterly-unit.csv\")\n",
    "\n",
    "rggi = rggi.loc[rggi[\"Year\"].isin([2024, 2025]), [\"Year\", \"Qtr\", \"CO2 Mass (Tons)\"]]\n",
    "rggi[\"t\"] = rggi[\"Year\"] + rggi[\"Qtr\"]/10\n",
    "rggi[\"co2\"] = rggi[\"CO2 Mass (Tons)\"]\n",
    "rggi[\"co2\"] = rggi[\"co2\"].replace(\"No Data\", np.nan)\n",
    "rggi[\"co2\"] = rggi[\"co2\"].str.replace(\",\", \"\").astype(np.float64)\n",
    "\n",
    "yearly = rggi[[\"Year\", \"co2\"]].groupby(\"Year\").sum()\n",
    "quarterly = rggi[[\"Year\", \"Qtr\", \"co2\"]].groupby([\"Year\", \"Qtr\"]).sum()\n",
    "\n",
    "co2_2025 = quarterly.loc[(2025, 1), \"co2\"] + quarterly.loc[(2025, 2), \"co2\"]\n",
    "co2_2024 = yearly.loc[2024, \"co2\"]\n",
    "# Oct 7 is the 280th day of the year.\n",
    "print(\"Answer: \" + str(co2_2025 + (co2_2024-co2_2025) * (280-180) / 180))\n",
    "\n",
    "\n",
    "# And how many tons will they emit on average every second?\n",
    "tco2_avg = (co2_2024-co2_2025)/(180*24*3600)\n",
    "print(\"TCO2/sec average: \" + str(tco2_avg))\n",
    "print(1/tco2_avg)"
   ]
  },
  {
   "cell_type": "code",
   "execution_count": 37,
   "id": "47959b99",
   "metadata": {},
   "outputs": [
    {
     "data": {
      "text/plain": [
       "np.float64(44661459.217999995)"
      ]
     },
     "execution_count": 37,
     "metadata": {},
     "output_type": "execute_result"
    }
   ],
   "source": [
    "co2_2024 - co2_2025"
   ]
  },
  {
   "cell_type": "code",
   "execution_count": null,
   "id": "f4644cf6",
   "metadata": {},
   "outputs": [],
   "source": []
  }
 ],
 "metadata": {
  "kernelspec": {
   "display_name": "ban-carbon-research",
   "language": "python",
   "name": "python3"
  },
  "language_info": {
   "codemirror_mode": {
    "name": "ipython",
    "version": 3
   },
   "file_extension": ".py",
   "mimetype": "text/x-python",
   "name": "python",
   "nbconvert_exporter": "python",
   "pygments_lexer": "ipython3",
   "version": "3.12.9"
  }
 },
 "nbformat": 4,
 "nbformat_minor": 5
}
